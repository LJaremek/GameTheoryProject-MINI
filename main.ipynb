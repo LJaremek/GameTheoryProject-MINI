{
 "cells": [
  {
   "cell_type": "code",
   "execution_count": 1,
   "metadata": {},
   "outputs": [],
   "source": [
    "from tools import compute_sprague_grundy, find_pre_and_period_length\n"
   ]
  },
  {
   "cell_type": "markdown",
   "metadata": {},
   "source": [
    "# Task 1 - SUBTRACTION(S)"
   ]
  },
  {
   "cell_type": "code",
   "execution_count": 8,
   "metadata": {},
   "outputs": [
    {
     "name": "stdout",
     "output_type": "stream",
     "text": [
      "** Analyzing SUBTRACTION(S) **\n",
      "\n",
      "S: (1, 4, 6)\n",
      "\tPre-Period len: 0. Period len:   5\n",
      "\n",
      "S: (4, 6, 7)\n",
      "\tPre-Period len: 0. Period len:  11\n",
      "\n",
      "S: (8, 6, 7)\n",
      "\tPre-Period len: 0. Period len:  14\n",
      "\n",
      "S: (8, 10, 7)\n",
      "\tPre-Period len: 0. Period len:  17\n",
      "\n",
      "S: (10, 12, 7)\n",
      "\tPre-Period len: 0. Period len:  19\n",
      "\n",
      "S: (12, 14, 7)\n",
      "\tPre-Period len: 0. Period len:  21\n",
      "\n",
      "S: (17, 9, 7)\n",
      "\tPre-Period len: 78. Period len:   2\n",
      "\n",
      "S: (16, 10, 5)\n",
      "\tPre-Period len: 20. Period len:  21\n",
      "\n"
     ]
    }
   ],
   "source": [
    "to_check = (\n",
    "    {\n",
    "        \"S\": {1, 4, 6},\n",
    "        \"max_n\": 15,\n",
    "        \"period_len\": 5,\n",
    "        \"period\": (0, 1, 0, 1, 2)\n",
    "    },\n",
    "    {\n",
    "        \"S\": {7, 4, 6},\n",
    "        \"max_n\": 100,\n",
    "        \"period_len\": 11,\n",
    "        # \"period\": (0, 1, 0, 1, 2)\n",
    "    },\n",
    "    {\n",
    "        \"S\": {7, 6, 8},\n",
    "        \"max_n\": 100,\n",
    "        \"period_len\": 14,\n",
    "        # \"period\": (0, 1, 0, 1, 2)\n",
    "    },\n",
    "    {\n",
    "        \"S\": {7, 8, 10},\n",
    "        \"max_n\": 100,\n",
    "        \"period_len\": 17,\n",
    "        # \"period\": (0, 1, 0, 1, 2)\n",
    "    },\n",
    "    {\n",
    "        \"S\": {7, 10, 12},\n",
    "        \"max_n\": 100,\n",
    "        \"period_len\": 19,\n",
    "        # \"period\": (0, 1, 0, 1, 2)\n",
    "    },\n",
    "    {\n",
    "        \"S\": {7, 12, 14},\n",
    "        \"max_n\": 100,\n",
    "        \"period_len\": 21,\n",
    "        # \"period\": (0, 1, 0, 1, 2)\n",
    "    },\n",
    "    {\n",
    "        \"S\": {17, 9, 7},\n",
    "        \"max_n\": 10_000,\n",
    "        # \"period_len\": 21,\n",
    "        # \"period\": (0, 1, 0, 1, 2)\n",
    "    },\n",
    "    {\n",
    "        \"S\": {5, 10, 16},\n",
    "        \"max_n\": 10_000,\n",
    "        # \"period_len\": 21,\n",
    "        # \"period\": (0, 1, 0, 1, 2)\n",
    "    },\n",
    ")\n",
    "\n",
    "\n",
    "print(\"** Analyzing SUBTRACTION(S) **\\n\")\n",
    "for record in to_check:\n",
    "    S = tuple(record[\"S\"])\n",
    "    max_n = record[\"max_n\"]\n",
    "\n",
    "    grundy_values = tuple(compute_sprague_grundy(\"SUBTRACTION\", S, max_n))\n",
    "    pre_period, period_len = find_pre_and_period_length(grundy_values)\n",
    "\n",
    "    # if \"period_len\" in record:\n",
    "    #     expected_period_len = record[\"period_len\"]\n",
    "    #     assert expected_period_len == period_len\n",
    "    #     assert grundy_values[:period_len] == grundy_values[:expected_period_len]\n",
    "\n",
    "    # if \"period\" in record:\n",
    "    #     expected_period = record[\"period\"]\n",
    "    #     assert tuple(expected_period) == tuple(grundy_values[:period_len])\n",
    "\n",
    "    print(f\"S: {S}\")\n",
    "    # print(\"\\tAll numbers:\", grundy_values)\n",
    "    print(f\"\\tPre-Period len: {pre_period}. Period len: {period_len: 3}\")# Period: {grundy_values[:period_len]}\")\n",
    "    print()\n"
   ]
  },
  {
   "cell_type": "markdown",
   "metadata": {},
   "source": [
    "# Task 2 - ALLBUT(S)"
   ]
  },
  {
   "cell_type": "code",
   "execution_count": 3,
   "metadata": {},
   "outputs": [],
   "source": [
    "# grundy_values = compute_sprague_grundy(\"ALLBUT\", S, max_n)\n",
    "# pre_period, period, saltus = analyze_periodicity(grundy_values)\n",
    "# print(f\"Sprague-Grundy values: {grundy_values}\")\n",
    "# print(f\"Pre-period: {pre_period}, Period: {period}, Saltus: {saltus}\")\n"
   ]
  },
  {
   "cell_type": "code",
   "execution_count": 4,
   "metadata": {},
   "outputs": [],
   "source": [
    "# to_check = (\n",
    "#     {\n",
    "#         \"S\": {1, 4, 6},\n",
    "#         \"max_n\": 15,\n",
    "#         \"period_len\": 5,\n",
    "#         \"period\": (0, 1, 0, 1, 2)\n",
    "#     },\n",
    "#     {\n",
    "#         \"S\": {7, 4, 6},\n",
    "#         \"max_n\": 100,\n",
    "#         \"period_len\": 11,\n",
    "#         # \"period\": (0, 1, 0, 1, 2)\n",
    "#     },\n",
    "#     {\n",
    "#         \"S\": {7, 6, 8},\n",
    "#         \"max_n\": 100,\n",
    "#         \"period_len\": 14,\n",
    "#         # \"period\": (0, 1, 0, 1, 2)\n",
    "#     },\n",
    "#     {\n",
    "#         \"S\": {7, 8, 10},\n",
    "#         \"max_n\": 100,\n",
    "#         \"period_len\": 17,\n",
    "#         # \"period\": (0, 1, 0, 1, 2)\n",
    "#     },\n",
    "#     {\n",
    "#         \"S\": {7, 10, 12},\n",
    "#         \"max_n\": 100,\n",
    "#         \"period_len\": 19,\n",
    "#         # \"period\": (0, 1, 0, 1, 2)\n",
    "#     },\n",
    "#     {\n",
    "#         \"S\": {7, 12, 14},\n",
    "#         \"max_n\": 100,\n",
    "#         \"period_len\": 21,\n",
    "#         # \"period\": (0, 1, 0, 1, 2)\n",
    "#     },\n",
    "# )\n",
    "\n",
    "\n",
    "# print(\"** Analyzing ALLBUT(S) **\\n\")\n",
    "# for record in to_check:\n",
    "#     S = record[\"S\"]\n",
    "#     max_n = record[\"max_n\"]\n",
    "\n",
    "#     grundy_values = compute_sprague_grundy(\"ALLBUT\", S, max_n)\n",
    "#     pre_period, period_len = find_period(grundy_values)\n",
    "\n",
    "#     if \"period_len\" in record:\n",
    "#         expected_period_len = record[\"period_len\"]\n",
    "#         assert expected_period_len == period_len\n",
    "#         assert grundy_values[:period_len] == grundy_values[:expected_period_len]\n",
    "\n",
    "#     if \"period\" in record:\n",
    "#         expected_period = record[\"period\"]\n",
    "#         assert tuple(expected_period) == tuple(grundy_values[:period_len])\n",
    "\n",
    "#     print(f\"S: {S}\")\n",
    "#     # print(\"\\tAll numbers:\", grundy_values)\n",
    "#     print(f\"\\tPeriod len: {period_len: 3} Period: {grundy_values[:period_len]}\")\n",
    "#     print()\n"
   ]
  },
  {
   "cell_type": "code",
   "execution_count": null,
   "metadata": {},
   "outputs": [],
   "source": []
  },
  {
   "cell_type": "code",
   "execution_count": null,
   "metadata": {},
   "outputs": [
    {
     "name": "stdout",
     "output_type": "stream",
     "text": [
      "[0, 0, 0, 0, 0, 0, 0, 1, 1, 1, 1, 1, 1, 1, 2, 2, 0, 2, 2, 2, 2, 3, 3, 1, 0, 3, 0, 0, 0, 0, 0, 1, 0, 1, 1, 1, 1, 1, 2, 1, 0, 2, 0, 2, 2, 3, 2, 1, 0, 1, 0, 3, 0, 0, 0, 1, 0, 1, 0, 1, 1, 1, 2, 1, 0, 1, 0, 2, 0, 3, 2, 1, 0, 1, 0, 1, 0, 3, 0, 1, 0, 1, 0, 1, 0, 1, 0, 1, 0, 1, 0, 1, 0, 1, 0, 1, 0, 1, 0, 1]\n",
      "[0, 0, 0, 0, 0, 0, 0, 1, 1, 1, 1, 1, 1, 1, 2, 2, 0, 2, 2, 2, 2, 3, 3, 1, 0, 3, 0, 0, 0, 0, 0, 1, 0, 1, 1, 1, 1, 1, 2, 1, 0, 2, 0, 2, 2, 3, 2, 1, 0, 1, 0, 3, 0, 0, 0, 1, 0, 1, 0, 1, 1, 1, 2, 1, 0, 1, 0, 2, 0, 3, 2, 1, 0, 1, 0, 1, 0, 3]\n",
      "[0, 1, 0, 1, 0, 1, 0, 1, 0, 1, 0, 1, 0, 1, 0, 1, 0, 1, 0, 1, 0, 1, 0, 1, 0, 1, 0, 1, 0, 1, 0, 1, 0, 1, 0, 1, 0, 1, 0, 1, 0, 1, 0, 1, 0, 1, 0, 1, 0, 1, 0, 1, 0, 1, 0, 1, 0, 1, 0, 1, 0, 1, 0, 1, 0, 1, 0, 1, 0, 1, 0, 1]\n",
      "Pre-length: 78, Period length: 2\n"
     ]
    }
   ],
   "source": [
    "S = {17, 9, 7}\n",
    "game_type = \"SUBTRACTION\"  # Game type\n",
    "max_length = 1_000_000  # Maximum sequence length\n",
    "sequence = compute_sprague_grundy(game_type, S, max_length)\n",
    "print(sequence[:100])\n",
    "print(sequence[:78])\n",
    "print(sequence[78:150])\n",
    "\n",
    "pre_length, period_length = find_pre_and_period_length(sequence)\n",
    "print(f\"Pre-length: {pre_length}, Period length: {period_length}\")\n"
   ]
  },
  {
   "cell_type": "code",
   "execution_count": 23,
   "metadata": {},
   "outputs": [
    {
     "name": "stdout",
     "output_type": "stream",
     "text": [
      "Pre-length: 20, Period length: 21\n",
      "[0, 0, 0, 0, 0, 1, 1, 1, 1, 1, 2, 2, 2, 2, 2, 0, 3, 3, 3, 3, 1, 0, 0, 0, 0, 2, 1, 1, 1, 1, 0, 2, 2, 2, 2, 1, 0, 3, 3, 3, 2, 1, 0, 0, 0, 0, 2, 1, 1, 1, 1, 0, 2, 2, 2, 2, 1, 0, 3, 3, 3, 2, 1, 0, 0, 0, 0, 2, 1, 1, 1, 1, 0, 2, 2, 2, 2, 1, 0, 3, 3, 3, 2, 1, 0, 0, 0, 0, 2, 1, 1, 1, 1, 0, 2, 2, 2, 2, 1, 0]\n",
      "[0, 0, 0, 0, 0, 1, 1, 1, 1, 1, 2, 2, 2, 2, 2, 0, 3, 3, 3, 3]\n",
      "[1, 0, 0, 0, 0, 2, 1, 1, 1, 1, 0, 2, 2, 2, 2, 1, 0, 3, 3, 3, 2, 1, 0, 0, 0, 0, 2, 1, 1, 1, 1, 0, 2, 2, 2, 2, 1, 0, 3, 3, 3, 2, 1, 0, 0, 0, 0, 2, 1, 1, 1, 1, 0, 2, 2, 2, 2, 1, 0, 3, 3, 3, 2, 1, 0, 0, 0, 0, 2, 1, 1, 1, 1, 0, 2, 2, 2, 2, 1, 0, 3, 3, 3, 2, 1, 0, 0, 0, 0, 2, 1, 1, 1, 1, 0, 2, 2, 2, 2, 1, 0, 3, 3, 3, 2, 1, 0, 0, 0, 0, 2, 1, 1, 1, 1, 0, 2, 2, 2, 2, 1, 0, 3, 3, 3, 2, 1, 0, 0, 0]\n"
     ]
    }
   ],
   "source": [
    "a = 5\n",
    "S = {a, 2*a, 3*a+1}\n",
    "game_type = \"SUBTRACTION\"  # Game type\n",
    "max_length = 1_000_000  # Maximum sequence length\n",
    "sequence = compute_sprague_grundy(game_type, S, max_length)\n",
    "\n",
    "pre_length, period_length = find_pre_and_period_length(sequence)\n",
    "print(f\"Pre-length: {pre_length}, Period length: {period_length}\")\n",
    "\n",
    "print(sequence[:100])\n",
    "print(sequence[:pre_length])\n",
    "print(sequence[pre_length:150])\n"
   ]
  }
 ],
 "metadata": {
  "kernelspec": {
   "display_name": "py312",
   "language": "python",
   "name": "python3"
  },
  "language_info": {
   "codemirror_mode": {
    "name": "ipython",
    "version": 3
   },
   "file_extension": ".py",
   "mimetype": "text/x-python",
   "name": "python",
   "nbconvert_exporter": "python",
   "pygments_lexer": "ipython3",
   "version": "3.12.8"
  }
 },
 "nbformat": 4,
 "nbformat_minor": 2
}
